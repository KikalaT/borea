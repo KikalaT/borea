{
 "cells": [
  {
   "cell_type": "code",
   "execution_count": 1,
   "metadata": {},
   "outputs": [],
   "source": [
    "import pandas as pd\n",
    "import numpy as np\n",
    "import time"
   ]
  },
  {
   "cell_type": "markdown",
   "metadata": {},
   "source": [
    "### Présentation du fichier\n",
    "* __689301__ observations (index)\n",
    "* Une colonne `Longitude` et une colonne `Latitude` exprimées en `CRS WGS384` qu'il faudra convertir en `Mercator`\n",
    "* __165__ colonnes correspondant aux année dont la valeur est la valeur de sortie du modèle (ou probabilité de présence) comprise entre 0 et 1, avec 1 étant le maximum (i.e. l'espèce rencontre toutes les conditions environnementales requises pour être présente; 0 = l'espèce ne peut pas être présente)."
   ]
  },
  {
   "cell_type": "code",
   "execution_count": 2,
   "metadata": {},
   "outputs": [],
   "source": [
    "# initialisation du Timer\n",
    "#########################\n",
    "\n",
    "start_sec = time.time()"
   ]
  },
  {
   "cell_type": "code",
   "execution_count": 3,
   "metadata": {},
   "outputs": [],
   "source": [
    "# chargement des données\n",
    "########################\n",
    "\n",
    "df = pd.read_csv('dataset_sprat_light_v2.csv', sep=';')"
   ]
  },
  {
   "cell_type": "code",
   "execution_count": 4,
   "metadata": {},
   "outputs": [
    {
     "data": {
      "text/plain": [
       "689301"
      ]
     },
     "execution_count": 4,
     "metadata": {},
     "output_type": "execute_result"
    }
   ],
   "source": [
    "# vérification du nombre d'observations\n",
    "#######################################\n",
    "\n",
    "len(df)"
   ]
  },
  {
   "cell_type": "code",
   "execution_count": 5,
   "metadata": {},
   "outputs": [],
   "source": [
    "# traitement des valeurs manquantes (NaN)\n",
    "########################################\n",
    "\n",
    "df = df.dropna()"
   ]
  },
  {
   "cell_type": "code",
   "execution_count": 6,
   "metadata": {},
   "outputs": [
    {
     "data": {
      "text/plain": [
       "689301"
      ]
     },
     "execution_count": 6,
     "metadata": {},
     "output_type": "execute_result"
    }
   ],
   "source": [
    "# vérification du nombre d'observations\n",
    "#######################################\n",
    "\n",
    "len(df)"
   ]
  },
  {
   "cell_type": "code",
   "execution_count": 7,
   "metadata": {},
   "outputs": [],
   "source": [
    "# Séparation des données géographiques et des valeurs modélisées\n",
    "################################################################\n",
    "\n",
    "# `d_map` : données géographiques\n",
    "# `d_val` : valeurs modélisées\n",
    "\n",
    "df_map = df.iloc[:,:2]\n",
    "df_val = df.iloc[:,2:]"
   ]
  },
  {
   "cell_type": "code",
   "execution_count": 8,
   "metadata": {},
   "outputs": [],
   "source": [
    "# mise à l'échelle (= division par 100)\n",
    "######################################\n",
    "\n",
    "df_val = df_val / 100"
   ]
  },
  {
   "cell_type": "code",
   "execution_count": 9,
   "metadata": {},
   "outputs": [
    {
     "data": {
      "text/plain": [
       "43701"
      ]
     },
     "execution_count": 9,
     "metadata": {},
     "output_type": "execute_result"
    }
   ],
   "source": [
    "# Identification des observations non nulles\n",
    "############################################\n",
    "\n",
    "# Afin de réduire les champs des observations aux observations non nulles, on calcule les lignes \n",
    "# dont la somme des valeurs des colonnes temporelles est non nulle.\n",
    "# On en déduit qu'il existe '43701' observations non nulles que l'on stocke dans 'df_data'\n",
    "\n",
    "(df_val.sum(axis=1) != 0).sum()"
   ]
  },
  {
   "cell_type": "code",
   "execution_count": 10,
   "metadata": {},
   "outputs": [
    {
     "data": {
      "text/html": [
       "<div>\n",
       "<style scoped>\n",
       "    .dataframe tbody tr th:only-of-type {\n",
       "        vertical-align: middle;\n",
       "    }\n",
       "\n",
       "    .dataframe tbody tr th {\n",
       "        vertical-align: top;\n",
       "    }\n",
       "\n",
       "    .dataframe thead th {\n",
       "        text-align: right;\n",
       "    }\n",
       "</style>\n",
       "<table border=\"1\" class=\"dataframe\">\n",
       "  <thead>\n",
       "    <tr style=\"text-align: right;\">\n",
       "      <th></th>\n",
       "      <th>1850</th>\n",
       "      <th>1851</th>\n",
       "      <th>1852</th>\n",
       "      <th>1853</th>\n",
       "      <th>1854</th>\n",
       "      <th>1855</th>\n",
       "      <th>1856</th>\n",
       "      <th>1857</th>\n",
       "      <th>1858</th>\n",
       "      <th>1859</th>\n",
       "      <th>...</th>\n",
       "      <th>2008</th>\n",
       "      <th>2009</th>\n",
       "      <th>2010</th>\n",
       "      <th>2011</th>\n",
       "      <th>2012</th>\n",
       "      <th>2013</th>\n",
       "      <th>2014</th>\n",
       "      <th>2015</th>\n",
       "      <th>2016</th>\n",
       "      <th>2017</th>\n",
       "    </tr>\n",
       "  </thead>\n",
       "  <tbody>\n",
       "    <tr>\n",
       "      <th>1322</th>\n",
       "      <td>0.041093</td>\n",
       "      <td>0.018304</td>\n",
       "      <td>0.017149</td>\n",
       "      <td>0.021120</td>\n",
       "      <td>0.065412</td>\n",
       "      <td>0.015823</td>\n",
       "      <td>0.016420</td>\n",
       "      <td>0.015823</td>\n",
       "      <td>0.015823</td>\n",
       "      <td>0.015823</td>\n",
       "      <td>...</td>\n",
       "      <td>0.160507</td>\n",
       "      <td>0.016118</td>\n",
       "      <td>0.214745</td>\n",
       "      <td>0.161338</td>\n",
       "      <td>0.370544</td>\n",
       "      <td>0.132713</td>\n",
       "      <td>0.015823</td>\n",
       "      <td>0.063486</td>\n",
       "      <td>0.354522</td>\n",
       "      <td>0.156443</td>\n",
       "    </tr>\n",
       "    <tr>\n",
       "      <th>1323</th>\n",
       "      <td>0.039960</td>\n",
       "      <td>0.017808</td>\n",
       "      <td>0.016884</td>\n",
       "      <td>0.020613</td>\n",
       "      <td>0.063224</td>\n",
       "      <td>0.015823</td>\n",
       "      <td>0.016300</td>\n",
       "      <td>0.015823</td>\n",
       "      <td>0.015823</td>\n",
       "      <td>0.015823</td>\n",
       "      <td>...</td>\n",
       "      <td>0.155331</td>\n",
       "      <td>0.016059</td>\n",
       "      <td>0.211703</td>\n",
       "      <td>0.155974</td>\n",
       "      <td>0.355953</td>\n",
       "      <td>0.132422</td>\n",
       "      <td>0.015823</td>\n",
       "      <td>0.061177</td>\n",
       "      <td>0.345742</td>\n",
       "      <td>0.152188</td>\n",
       "    </tr>\n",
       "    <tr>\n",
       "      <th>1324</th>\n",
       "      <td>0.033140</td>\n",
       "      <td>0.015823</td>\n",
       "      <td>0.015823</td>\n",
       "      <td>0.018022</td>\n",
       "      <td>0.052629</td>\n",
       "      <td>0.015823</td>\n",
       "      <td>0.015823</td>\n",
       "      <td>0.015823</td>\n",
       "      <td>0.015823</td>\n",
       "      <td>0.015823</td>\n",
       "      <td>...</td>\n",
       "      <td>0.147410</td>\n",
       "      <td>0.015823</td>\n",
       "      <td>0.209675</td>\n",
       "      <td>0.147886</td>\n",
       "      <td>0.346000</td>\n",
       "      <td>0.127796</td>\n",
       "      <td>0.015823</td>\n",
       "      <td>0.050573</td>\n",
       "      <td>0.333046</td>\n",
       "      <td>0.145079</td>\n",
       "    </tr>\n",
       "    <tr>\n",
       "      <th>1325</th>\n",
       "      <td>0.024041</td>\n",
       "      <td>0.015823</td>\n",
       "      <td>0.015823</td>\n",
       "      <td>0.016453</td>\n",
       "      <td>0.042319</td>\n",
       "      <td>0.015823</td>\n",
       "      <td>0.015823</td>\n",
       "      <td>0.015823</td>\n",
       "      <td>0.015823</td>\n",
       "      <td>0.015823</td>\n",
       "      <td>...</td>\n",
       "      <td>0.139507</td>\n",
       "      <td>0.015823</td>\n",
       "      <td>0.193969</td>\n",
       "      <td>0.139935</td>\n",
       "      <td>0.331154</td>\n",
       "      <td>0.115514</td>\n",
       "      <td>0.015823</td>\n",
       "      <td>0.040504</td>\n",
       "      <td>0.317952</td>\n",
       "      <td>0.137416</td>\n",
       "    </tr>\n",
       "    <tr>\n",
       "      <th>1329</th>\n",
       "      <td>0.019685</td>\n",
       "      <td>0.015823</td>\n",
       "      <td>0.015823</td>\n",
       "      <td>0.015911</td>\n",
       "      <td>0.033397</td>\n",
       "      <td>0.015823</td>\n",
       "      <td>0.015823</td>\n",
       "      <td>0.015823</td>\n",
       "      <td>0.015823</td>\n",
       "      <td>0.015823</td>\n",
       "      <td>...</td>\n",
       "      <td>0.134469</td>\n",
       "      <td>0.015823</td>\n",
       "      <td>0.188689</td>\n",
       "      <td>0.135005</td>\n",
       "      <td>0.319891</td>\n",
       "      <td>0.105846</td>\n",
       "      <td>0.015823</td>\n",
       "      <td>0.031972</td>\n",
       "      <td>0.309082</td>\n",
       "      <td>0.131846</td>\n",
       "    </tr>\n",
       "  </tbody>\n",
       "</table>\n",
       "<p>5 rows × 168 columns</p>\n",
       "</div>"
      ],
      "text/plain": [
       "          1850      1851      1852      1853      1854      1855      1856  \\\n",
       "1322  0.041093  0.018304  0.017149  0.021120  0.065412  0.015823  0.016420   \n",
       "1323  0.039960  0.017808  0.016884  0.020613  0.063224  0.015823  0.016300   \n",
       "1324  0.033140  0.015823  0.015823  0.018022  0.052629  0.015823  0.015823   \n",
       "1325  0.024041  0.015823  0.015823  0.016453  0.042319  0.015823  0.015823   \n",
       "1329  0.019685  0.015823  0.015823  0.015911  0.033397  0.015823  0.015823   \n",
       "\n",
       "          1857      1858      1859  ...      2008      2009      2010  \\\n",
       "1322  0.015823  0.015823  0.015823  ...  0.160507  0.016118  0.214745   \n",
       "1323  0.015823  0.015823  0.015823  ...  0.155331  0.016059  0.211703   \n",
       "1324  0.015823  0.015823  0.015823  ...  0.147410  0.015823  0.209675   \n",
       "1325  0.015823  0.015823  0.015823  ...  0.139507  0.015823  0.193969   \n",
       "1329  0.015823  0.015823  0.015823  ...  0.134469  0.015823  0.188689   \n",
       "\n",
       "          2011      2012      2013      2014      2015      2016      2017  \n",
       "1322  0.161338  0.370544  0.132713  0.015823  0.063486  0.354522  0.156443  \n",
       "1323  0.155974  0.355953  0.132422  0.015823  0.061177  0.345742  0.152188  \n",
       "1324  0.147886  0.346000  0.127796  0.015823  0.050573  0.333046  0.145079  \n",
       "1325  0.139935  0.331154  0.115514  0.015823  0.040504  0.317952  0.137416  \n",
       "1329  0.135005  0.319891  0.105846  0.015823  0.031972  0.309082  0.131846  \n",
       "\n",
       "[5 rows x 168 columns]"
      ]
     },
     "execution_count": 10,
     "metadata": {},
     "output_type": "execute_result"
    }
   ],
   "source": [
    "# extraction des observations non nulles dans 'df_data'\n",
    "#######################################################\n",
    "\n",
    "df_data = df_val[df_val.sum(axis=1) != 0]\n",
    "df_data.head()"
   ]
  },
  {
   "cell_type": "code",
   "execution_count": 11,
   "metadata": {},
   "outputs": [
    {
     "data": {
      "text/plain": [
       "645600"
      ]
     },
     "execution_count": 11,
     "metadata": {},
     "output_type": "execute_result"
    }
   ],
   "source": [
    "# Identification des observations 'nulles\n",
    "########################################\n",
    "\n",
    "# Pour les valeurs nulles, celles-ci s'expliquent par le fait que cela correspond à une probabilité nulle de \n",
    "# présence de l'espèce, ce qui est une information importante et à conserver, \n",
    "# notamment si une agrégation est faite sur une zone géographique.\n",
    "\n",
    "# On en déduit et isolons '645600' observations nulle dont on ne conservera\n",
    "# que les colonnes de 'Longitude' et de 'Latitude'.\n",
    "\n",
    "\n",
    "\n",
    "(df_val.sum(axis=1) == 0).sum()"
   ]
  },
  {
   "cell_type": "code",
   "execution_count": 12,
   "metadata": {},
   "outputs": [],
   "source": [
    "# Opération de type 'booléen' sur l'index de 'df_map' non inclus dans l'index de 'df_data'\n",
    "# les valeurs nulles sont effacés du dataframe, mais l'index est conservé.\n",
    "# ce qui nous permettra de les visualiser en temps voulu et de ne pas perdre d'information scientifique.\n",
    "\n",
    "df_null = df_map[~(df_map.index.isin(df_data.index))]"
   ]
  },
  {
   "cell_type": "markdown",
   "metadata": {},
   "source": [
    "### Fusion avec les données géographiques\n",
    "On est donc en mesure de produire (2) datasets finaux : \n",
    "* `df_data` composé de __42173__ observations,\n",
    "* `df_null` composé de __645600__ observations nulles mais nécessaires dans notre démarche scientifique."
   ]
  },
  {
   "cell_type": "code",
   "execution_count": 13,
   "metadata": {},
   "outputs": [],
   "source": [
    "# ajout des données de localisation\n",
    "##################################\n",
    "\n",
    "df_data = df_data.merge(df_map, left_index=True, right_index=True, how='inner')"
   ]
  },
  {
   "cell_type": "code",
   "execution_count": 14,
   "metadata": {},
   "outputs": [
    {
     "data": {
      "text/html": [
       "<div>\n",
       "<style scoped>\n",
       "    .dataframe tbody tr th:only-of-type {\n",
       "        vertical-align: middle;\n",
       "    }\n",
       "\n",
       "    .dataframe tbody tr th {\n",
       "        vertical-align: top;\n",
       "    }\n",
       "\n",
       "    .dataframe thead th {\n",
       "        text-align: right;\n",
       "    }\n",
       "</style>\n",
       "<table border=\"1\" class=\"dataframe\">\n",
       "  <thead>\n",
       "    <tr style=\"text-align: right;\">\n",
       "      <th></th>\n",
       "      <th>Longitude</th>\n",
       "      <th>Latitude</th>\n",
       "      <th>1850</th>\n",
       "      <th>1851</th>\n",
       "      <th>1852</th>\n",
       "      <th>1853</th>\n",
       "      <th>1854</th>\n",
       "      <th>1855</th>\n",
       "      <th>1856</th>\n",
       "      <th>1857</th>\n",
       "      <th>...</th>\n",
       "      <th>2008</th>\n",
       "      <th>2009</th>\n",
       "      <th>2010</th>\n",
       "      <th>2011</th>\n",
       "      <th>2012</th>\n",
       "      <th>2013</th>\n",
       "      <th>2014</th>\n",
       "      <th>2015</th>\n",
       "      <th>2016</th>\n",
       "      <th>2017</th>\n",
       "    </tr>\n",
       "  </thead>\n",
       "  <tbody>\n",
       "    <tr>\n",
       "      <th>1322</th>\n",
       "      <td>-89.8</td>\n",
       "      <td>47.0</td>\n",
       "      <td>0.041093</td>\n",
       "      <td>0.018304</td>\n",
       "      <td>0.017149</td>\n",
       "      <td>0.021120</td>\n",
       "      <td>0.065412</td>\n",
       "      <td>0.015823</td>\n",
       "      <td>0.016420</td>\n",
       "      <td>0.015823</td>\n",
       "      <td>...</td>\n",
       "      <td>0.160507</td>\n",
       "      <td>0.016118</td>\n",
       "      <td>0.214745</td>\n",
       "      <td>0.161338</td>\n",
       "      <td>0.370544</td>\n",
       "      <td>0.132713</td>\n",
       "      <td>0.015823</td>\n",
       "      <td>0.063486</td>\n",
       "      <td>0.354522</td>\n",
       "      <td>0.156443</td>\n",
       "    </tr>\n",
       "    <tr>\n",
       "      <th>1323</th>\n",
       "      <td>-89.8</td>\n",
       "      <td>47.1</td>\n",
       "      <td>0.039960</td>\n",
       "      <td>0.017808</td>\n",
       "      <td>0.016884</td>\n",
       "      <td>0.020613</td>\n",
       "      <td>0.063224</td>\n",
       "      <td>0.015823</td>\n",
       "      <td>0.016300</td>\n",
       "      <td>0.015823</td>\n",
       "      <td>...</td>\n",
       "      <td>0.155331</td>\n",
       "      <td>0.016059</td>\n",
       "      <td>0.211703</td>\n",
       "      <td>0.155974</td>\n",
       "      <td>0.355953</td>\n",
       "      <td>0.132422</td>\n",
       "      <td>0.015823</td>\n",
       "      <td>0.061177</td>\n",
       "      <td>0.345742</td>\n",
       "      <td>0.152188</td>\n",
       "    </tr>\n",
       "    <tr>\n",
       "      <th>1324</th>\n",
       "      <td>-89.8</td>\n",
       "      <td>47.2</td>\n",
       "      <td>0.033140</td>\n",
       "      <td>0.015823</td>\n",
       "      <td>0.015823</td>\n",
       "      <td>0.018022</td>\n",
       "      <td>0.052629</td>\n",
       "      <td>0.015823</td>\n",
       "      <td>0.015823</td>\n",
       "      <td>0.015823</td>\n",
       "      <td>...</td>\n",
       "      <td>0.147410</td>\n",
       "      <td>0.015823</td>\n",
       "      <td>0.209675</td>\n",
       "      <td>0.147886</td>\n",
       "      <td>0.346000</td>\n",
       "      <td>0.127796</td>\n",
       "      <td>0.015823</td>\n",
       "      <td>0.050573</td>\n",
       "      <td>0.333046</td>\n",
       "      <td>0.145079</td>\n",
       "    </tr>\n",
       "    <tr>\n",
       "      <th>1325</th>\n",
       "      <td>-89.8</td>\n",
       "      <td>47.3</td>\n",
       "      <td>0.024041</td>\n",
       "      <td>0.015823</td>\n",
       "      <td>0.015823</td>\n",
       "      <td>0.016453</td>\n",
       "      <td>0.042319</td>\n",
       "      <td>0.015823</td>\n",
       "      <td>0.015823</td>\n",
       "      <td>0.015823</td>\n",
       "      <td>...</td>\n",
       "      <td>0.139507</td>\n",
       "      <td>0.015823</td>\n",
       "      <td>0.193969</td>\n",
       "      <td>0.139935</td>\n",
       "      <td>0.331154</td>\n",
       "      <td>0.115514</td>\n",
       "      <td>0.015823</td>\n",
       "      <td>0.040504</td>\n",
       "      <td>0.317952</td>\n",
       "      <td>0.137416</td>\n",
       "    </tr>\n",
       "    <tr>\n",
       "      <th>1329</th>\n",
       "      <td>-89.8</td>\n",
       "      <td>47.7</td>\n",
       "      <td>0.019685</td>\n",
       "      <td>0.015823</td>\n",
       "      <td>0.015823</td>\n",
       "      <td>0.015911</td>\n",
       "      <td>0.033397</td>\n",
       "      <td>0.015823</td>\n",
       "      <td>0.015823</td>\n",
       "      <td>0.015823</td>\n",
       "      <td>...</td>\n",
       "      <td>0.134469</td>\n",
       "      <td>0.015823</td>\n",
       "      <td>0.188689</td>\n",
       "      <td>0.135005</td>\n",
       "      <td>0.319891</td>\n",
       "      <td>0.105846</td>\n",
       "      <td>0.015823</td>\n",
       "      <td>0.031972</td>\n",
       "      <td>0.309082</td>\n",
       "      <td>0.131846</td>\n",
       "    </tr>\n",
       "  </tbody>\n",
       "</table>\n",
       "<p>5 rows × 170 columns</p>\n",
       "</div>"
      ],
      "text/plain": [
       "      Longitude  Latitude      1850      1851      1852      1853      1854  \\\n",
       "1322      -89.8      47.0  0.041093  0.018304  0.017149  0.021120  0.065412   \n",
       "1323      -89.8      47.1  0.039960  0.017808  0.016884  0.020613  0.063224   \n",
       "1324      -89.8      47.2  0.033140  0.015823  0.015823  0.018022  0.052629   \n",
       "1325      -89.8      47.3  0.024041  0.015823  0.015823  0.016453  0.042319   \n",
       "1329      -89.8      47.7  0.019685  0.015823  0.015823  0.015911  0.033397   \n",
       "\n",
       "          1855      1856      1857  ...      2008      2009      2010  \\\n",
       "1322  0.015823  0.016420  0.015823  ...  0.160507  0.016118  0.214745   \n",
       "1323  0.015823  0.016300  0.015823  ...  0.155331  0.016059  0.211703   \n",
       "1324  0.015823  0.015823  0.015823  ...  0.147410  0.015823  0.209675   \n",
       "1325  0.015823  0.015823  0.015823  ...  0.139507  0.015823  0.193969   \n",
       "1329  0.015823  0.015823  0.015823  ...  0.134469  0.015823  0.188689   \n",
       "\n",
       "          2011      2012      2013      2014      2015      2016      2017  \n",
       "1322  0.161338  0.370544  0.132713  0.015823  0.063486  0.354522  0.156443  \n",
       "1323  0.155974  0.355953  0.132422  0.015823  0.061177  0.345742  0.152188  \n",
       "1324  0.147886  0.346000  0.127796  0.015823  0.050573  0.333046  0.145079  \n",
       "1325  0.139935  0.331154  0.115514  0.015823  0.040504  0.317952  0.137416  \n",
       "1329  0.135005  0.319891  0.105846  0.015823  0.031972  0.309082  0.131846  \n",
       "\n",
       "[5 rows x 170 columns]"
      ]
     },
     "execution_count": 14,
     "metadata": {},
     "output_type": "execute_result"
    }
   ],
   "source": [
    "# réarrangement des colonnes\n",
    "############################\n",
    "\n",
    "cols = list(df_data.columns)\n",
    "cols = cols[-2:] + cols[:-2]\n",
    "df_data = df_data[cols]\n",
    "\n",
    "df_data.head()"
   ]
  },
  {
   "cell_type": "code",
   "execution_count": 15,
   "metadata": {},
   "outputs": [
    {
     "data": {
      "text/html": [
       "<div>\n",
       "<style scoped>\n",
       "    .dataframe tbody tr th:only-of-type {\n",
       "        vertical-align: middle;\n",
       "    }\n",
       "\n",
       "    .dataframe tbody tr th {\n",
       "        vertical-align: top;\n",
       "    }\n",
       "\n",
       "    .dataframe thead th {\n",
       "        text-align: right;\n",
       "    }\n",
       "</style>\n",
       "<table border=\"1\" class=\"dataframe\">\n",
       "  <thead>\n",
       "    <tr style=\"text-align: right;\">\n",
       "      <th></th>\n",
       "      <th>Longitude</th>\n",
       "      <th>Latitude</th>\n",
       "    </tr>\n",
       "  </thead>\n",
       "  <tbody>\n",
       "    <tr>\n",
       "      <th>0</th>\n",
       "      <td>-90.0</td>\n",
       "      <td>25.0</td>\n",
       "    </tr>\n",
       "    <tr>\n",
       "      <th>1</th>\n",
       "      <td>-90.0</td>\n",
       "      <td>25.1</td>\n",
       "    </tr>\n",
       "    <tr>\n",
       "      <th>2</th>\n",
       "      <td>-90.0</td>\n",
       "      <td>25.2</td>\n",
       "    </tr>\n",
       "    <tr>\n",
       "      <th>3</th>\n",
       "      <td>-90.0</td>\n",
       "      <td>25.3</td>\n",
       "    </tr>\n",
       "    <tr>\n",
       "      <th>4</th>\n",
       "      <td>-90.0</td>\n",
       "      <td>25.4</td>\n",
       "    </tr>\n",
       "  </tbody>\n",
       "</table>\n",
       "</div>"
      ],
      "text/plain": [
       "   Longitude  Latitude\n",
       "0      -90.0      25.0\n",
       "1      -90.0      25.1\n",
       "2      -90.0      25.2\n",
       "3      -90.0      25.3\n",
       "4      -90.0      25.4"
      ]
     },
     "execution_count": 15,
     "metadata": {},
     "output_type": "execute_result"
    }
   ],
   "source": [
    "df_null.head()"
   ]
  },
  {
   "cell_type": "markdown",
   "metadata": {},
   "source": [
    "### Création des exports CSV finaux\n",
    "On exporte enfin notre travail sous la forme de (2) fichiers __csv__ et __compressés sans perte d'information__ :\n",
    "* `data_sprat_data.csv` (69.5 Mo)\n",
    "* `data_sprat_null.csv` (6.5 Mo)\n",
    "\n",
    "soit un total de __76.0Mo__, soit une compression significative de __72%__"
   ]
  },
  {
   "cell_type": "code",
   "execution_count": 16,
   "metadata": {},
   "outputs": [],
   "source": [
    "df_data.to_csv('export_data_sprat_data.csv', index=True)\n",
    "df_null.to_csv('export_data_sprat_null.csv', index=True)"
   ]
  },
  {
   "cell_type": "code",
   "execution_count": 17,
   "metadata": {},
   "outputs": [
    {
     "name": "stdout",
     "output_type": "stream",
     "text": [
      "Calculs effectués en 160.71 secondes\n"
     ]
    }
   ],
   "source": [
    "# finalisation du Timer\n",
    "#######################\n",
    "\n",
    "end_sec = time.time()\n",
    "\n",
    "print('Calculs effectués en %s secondes' %round(end_sec - start_sec,2))"
   ]
  },
  {
   "cell_type": "code",
   "execution_count": null,
   "metadata": {},
   "outputs": [],
   "source": []
  }
 ],
 "metadata": {
  "hide_input": false,
  "kernelspec": {
   "display_name": "Python 3",
   "language": "python",
   "name": "python3"
  },
  "language_info": {
   "codemirror_mode": {
    "name": "ipython",
    "version": 3
   },
   "file_extension": ".py",
   "mimetype": "text/x-python",
   "name": "python",
   "nbconvert_exporter": "python",
   "pygments_lexer": "ipython3",
   "version": "3.8.5"
  }
 },
 "nbformat": 4,
 "nbformat_minor": 4
}
