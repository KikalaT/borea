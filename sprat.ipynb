{
 "cells": [
  {
   "cell_type": "code",
   "execution_count": 1,
   "metadata": {},
   "outputs": [],
   "source": [
    "import pandas as pd\n",
    "import numpy as np\n",
    "import time"
   ]
  },
  {
   "cell_type": "markdown",
   "metadata": {},
   "source": [
    "### Présentation du fichier\n",
    "* __689301__ observations (index)\n",
    "* Une colonne `Longitude` et une colonne `Latitude` exprimées en `CRS WGS384` qu'il faudra convertir en `Mercator`\n",
    "* __165__ colonnes correspondant aux année dont la valeur est la valeur de sortie du modèle (ou probabilité de présence) comprise entre 0 et 1, avec 1 étant le maximum (i.e. l'espèce rencontre toutes les conditions environnementales requises pour être présente; 0 = l'espèce ne peut pas être présente)."
   ]
  },
  {
   "cell_type": "markdown",
   "metadata": {},
   "source": [
    "#### initialisation du Timer"
   ]
  },
  {
   "cell_type": "code",
   "execution_count": 2,
   "metadata": {},
   "outputs": [],
   "source": [
    "start_sec = time.time()"
   ]
  },
  {
   "cell_type": "markdown",
   "metadata": {},
   "source": [
    "### chargement des données"
   ]
  },
  {
   "cell_type": "code",
   "execution_count": 3,
   "metadata": {},
   "outputs": [],
   "source": [
    "df = pd.read_csv('dataset_sprat_light_v2.csv', sep=';')"
   ]
  },
  {
   "cell_type": "markdown",
   "metadata": {},
   "source": [
    "### vérification du nombre d'observations"
   ]
  },
  {
   "cell_type": "code",
   "execution_count": 4,
   "metadata": {},
   "outputs": [
    {
     "data": {
      "text/plain": [
       "689301"
      ]
     },
     "execution_count": 4,
     "metadata": {},
     "output_type": "execute_result"
    }
   ],
   "source": [
    "len(df)"
   ]
  },
  {
   "cell_type": "markdown",
   "metadata": {},
   "source": [
    "### traitement des valeurs manquantes (NaN)"
   ]
  },
  {
   "cell_type": "code",
   "execution_count": 5,
   "metadata": {},
   "outputs": [],
   "source": [
    "df = df.dropna()"
   ]
  },
  {
   "cell_type": "markdown",
   "metadata": {},
   "source": [
    "#### vérification du nombre d'observations"
   ]
  },
  {
   "cell_type": "code",
   "execution_count": 6,
   "metadata": {},
   "outputs": [
    {
     "data": {
      "text/plain": [
       "689301"
      ]
     },
     "execution_count": 6,
     "metadata": {},
     "output_type": "execute_result"
    }
   ],
   "source": [
    "len(df)"
   ]
  },
  {
   "cell_type": "markdown",
   "metadata": {},
   "source": [
    "### Séparation des données géographiques et des valeurs modélisées\n",
    "\n",
    "* `d_map` : données géographiques\n",
    "* `d_val` : valeurs modélisées"
   ]
  },
  {
   "cell_type": "code",
   "execution_count": 7,
   "metadata": {},
   "outputs": [],
   "source": [
    "df_map = df.iloc[:,:2]\n",
    "df_val = df.iloc[:,2:]"
   ]
  },
  {
   "cell_type": "markdown",
   "metadata": {},
   "source": [
    "### mise à l'échelle (= division par 1000)"
   ]
  },
  {
   "cell_type": "code",
   "execution_count": 8,
   "metadata": {},
   "outputs": [],
   "source": [
    "df_val = df_val / 1000"
   ]
  },
  {
   "cell_type": "markdown",
   "metadata": {},
   "source": [
    "### Identification des observations non nulles\n",
    "\n",
    "Afin de réduire les champs des observations aux observations non nulles, on calcule les lignes \n",
    "dont la somme des valeurs des colonnes temporelles est non nulle.\n",
    "\n",
    "On en déduit qu'il existe `43701` observations non nulles que l'on stocke dans `df_data`"
   ]
  },
  {
   "cell_type": "code",
   "execution_count": 9,
   "metadata": {},
   "outputs": [
    {
     "data": {
      "text/plain": [
       "43701"
      ]
     },
     "execution_count": 9,
     "metadata": {},
     "output_type": "execute_result"
    }
   ],
   "source": [
    "(df_val.sum(axis=1) != 0).sum()"
   ]
  },
  {
   "cell_type": "markdown",
   "metadata": {},
   "source": [
    "### extraction des observations non nulles dans `df_data`"
   ]
  },
  {
   "cell_type": "code",
   "execution_count": 10,
   "metadata": {},
   "outputs": [
    {
     "data": {
      "text/html": [
       "<div>\n",
       "<style scoped>\n",
       "    .dataframe tbody tr th:only-of-type {\n",
       "        vertical-align: middle;\n",
       "    }\n",
       "\n",
       "    .dataframe tbody tr th {\n",
       "        vertical-align: top;\n",
       "    }\n",
       "\n",
       "    .dataframe thead th {\n",
       "        text-align: right;\n",
       "    }\n",
       "</style>\n",
       "<table border=\"1\" class=\"dataframe\">\n",
       "  <thead>\n",
       "    <tr style=\"text-align: right;\">\n",
       "      <th></th>\n",
       "      <th>1850</th>\n",
       "      <th>1851</th>\n",
       "      <th>1852</th>\n",
       "      <th>1853</th>\n",
       "      <th>1854</th>\n",
       "      <th>1855</th>\n",
       "      <th>1856</th>\n",
       "      <th>1857</th>\n",
       "      <th>1858</th>\n",
       "      <th>1859</th>\n",
       "      <th>...</th>\n",
       "      <th>2008</th>\n",
       "      <th>2009</th>\n",
       "      <th>2010</th>\n",
       "      <th>2011</th>\n",
       "      <th>2012</th>\n",
       "      <th>2013</th>\n",
       "      <th>2014</th>\n",
       "      <th>2015</th>\n",
       "      <th>2016</th>\n",
       "      <th>2017</th>\n",
       "    </tr>\n",
       "  </thead>\n",
       "  <tbody>\n",
       "    <tr>\n",
       "      <th>1322</th>\n",
       "      <td>0.004109</td>\n",
       "      <td>0.001830</td>\n",
       "      <td>0.001715</td>\n",
       "      <td>0.002112</td>\n",
       "      <td>0.006541</td>\n",
       "      <td>0.001582</td>\n",
       "      <td>0.001642</td>\n",
       "      <td>0.001582</td>\n",
       "      <td>0.001582</td>\n",
       "      <td>0.001582</td>\n",
       "      <td>...</td>\n",
       "      <td>0.016051</td>\n",
       "      <td>0.001612</td>\n",
       "      <td>0.021475</td>\n",
       "      <td>0.016134</td>\n",
       "      <td>0.037054</td>\n",
       "      <td>0.013271</td>\n",
       "      <td>0.001582</td>\n",
       "      <td>0.006349</td>\n",
       "      <td>0.035452</td>\n",
       "      <td>0.015644</td>\n",
       "    </tr>\n",
       "    <tr>\n",
       "      <th>1323</th>\n",
       "      <td>0.003996</td>\n",
       "      <td>0.001781</td>\n",
       "      <td>0.001688</td>\n",
       "      <td>0.002061</td>\n",
       "      <td>0.006322</td>\n",
       "      <td>0.001582</td>\n",
       "      <td>0.001630</td>\n",
       "      <td>0.001582</td>\n",
       "      <td>0.001582</td>\n",
       "      <td>0.001582</td>\n",
       "      <td>...</td>\n",
       "      <td>0.015533</td>\n",
       "      <td>0.001606</td>\n",
       "      <td>0.021170</td>\n",
       "      <td>0.015597</td>\n",
       "      <td>0.035595</td>\n",
       "      <td>0.013242</td>\n",
       "      <td>0.001582</td>\n",
       "      <td>0.006118</td>\n",
       "      <td>0.034574</td>\n",
       "      <td>0.015219</td>\n",
       "    </tr>\n",
       "    <tr>\n",
       "      <th>1324</th>\n",
       "      <td>0.003314</td>\n",
       "      <td>0.001582</td>\n",
       "      <td>0.001582</td>\n",
       "      <td>0.001802</td>\n",
       "      <td>0.005263</td>\n",
       "      <td>0.001582</td>\n",
       "      <td>0.001582</td>\n",
       "      <td>0.001582</td>\n",
       "      <td>0.001582</td>\n",
       "      <td>0.001582</td>\n",
       "      <td>...</td>\n",
       "      <td>0.014741</td>\n",
       "      <td>0.001582</td>\n",
       "      <td>0.020968</td>\n",
       "      <td>0.014789</td>\n",
       "      <td>0.034600</td>\n",
       "      <td>0.012780</td>\n",
       "      <td>0.001582</td>\n",
       "      <td>0.005057</td>\n",
       "      <td>0.033305</td>\n",
       "      <td>0.014508</td>\n",
       "    </tr>\n",
       "    <tr>\n",
       "      <th>1325</th>\n",
       "      <td>0.002404</td>\n",
       "      <td>0.001582</td>\n",
       "      <td>0.001582</td>\n",
       "      <td>0.001645</td>\n",
       "      <td>0.004232</td>\n",
       "      <td>0.001582</td>\n",
       "      <td>0.001582</td>\n",
       "      <td>0.001582</td>\n",
       "      <td>0.001582</td>\n",
       "      <td>0.001582</td>\n",
       "      <td>...</td>\n",
       "      <td>0.013951</td>\n",
       "      <td>0.001582</td>\n",
       "      <td>0.019397</td>\n",
       "      <td>0.013993</td>\n",
       "      <td>0.033115</td>\n",
       "      <td>0.011551</td>\n",
       "      <td>0.001582</td>\n",
       "      <td>0.004050</td>\n",
       "      <td>0.031795</td>\n",
       "      <td>0.013742</td>\n",
       "    </tr>\n",
       "    <tr>\n",
       "      <th>1329</th>\n",
       "      <td>0.001968</td>\n",
       "      <td>0.001582</td>\n",
       "      <td>0.001582</td>\n",
       "      <td>0.001591</td>\n",
       "      <td>0.003340</td>\n",
       "      <td>0.001582</td>\n",
       "      <td>0.001582</td>\n",
       "      <td>0.001582</td>\n",
       "      <td>0.001582</td>\n",
       "      <td>0.001582</td>\n",
       "      <td>...</td>\n",
       "      <td>0.013447</td>\n",
       "      <td>0.001582</td>\n",
       "      <td>0.018869</td>\n",
       "      <td>0.013501</td>\n",
       "      <td>0.031989</td>\n",
       "      <td>0.010585</td>\n",
       "      <td>0.001582</td>\n",
       "      <td>0.003197</td>\n",
       "      <td>0.030908</td>\n",
       "      <td>0.013185</td>\n",
       "    </tr>\n",
       "  </tbody>\n",
       "</table>\n",
       "<p>5 rows × 168 columns</p>\n",
       "</div>"
      ],
      "text/plain": [
       "          1850      1851      1852      1853      1854      1855      1856  \\\n",
       "1322  0.004109  0.001830  0.001715  0.002112  0.006541  0.001582  0.001642   \n",
       "1323  0.003996  0.001781  0.001688  0.002061  0.006322  0.001582  0.001630   \n",
       "1324  0.003314  0.001582  0.001582  0.001802  0.005263  0.001582  0.001582   \n",
       "1325  0.002404  0.001582  0.001582  0.001645  0.004232  0.001582  0.001582   \n",
       "1329  0.001968  0.001582  0.001582  0.001591  0.003340  0.001582  0.001582   \n",
       "\n",
       "          1857      1858      1859  ...      2008      2009      2010  \\\n",
       "1322  0.001582  0.001582  0.001582  ...  0.016051  0.001612  0.021475   \n",
       "1323  0.001582  0.001582  0.001582  ...  0.015533  0.001606  0.021170   \n",
       "1324  0.001582  0.001582  0.001582  ...  0.014741  0.001582  0.020968   \n",
       "1325  0.001582  0.001582  0.001582  ...  0.013951  0.001582  0.019397   \n",
       "1329  0.001582  0.001582  0.001582  ...  0.013447  0.001582  0.018869   \n",
       "\n",
       "          2011      2012      2013      2014      2015      2016      2017  \n",
       "1322  0.016134  0.037054  0.013271  0.001582  0.006349  0.035452  0.015644  \n",
       "1323  0.015597  0.035595  0.013242  0.001582  0.006118  0.034574  0.015219  \n",
       "1324  0.014789  0.034600  0.012780  0.001582  0.005057  0.033305  0.014508  \n",
       "1325  0.013993  0.033115  0.011551  0.001582  0.004050  0.031795  0.013742  \n",
       "1329  0.013501  0.031989  0.010585  0.001582  0.003197  0.030908  0.013185  \n",
       "\n",
       "[5 rows x 168 columns]"
      ]
     },
     "execution_count": 10,
     "metadata": {},
     "output_type": "execute_result"
    }
   ],
   "source": [
    "df_data = df_val[df_val.sum(axis=1) != 0]\n",
    "df_data.head()"
   ]
  },
  {
   "cell_type": "markdown",
   "metadata": {},
   "source": [
    "### Identification des observations 'nulles\n",
    "\n",
    "Pour les valeurs nulles, celles-ci s'expliquent par le fait que cela correspond à une probabilité nulle de \n",
    "présence de l'espèce, ce qui est une information importante et à conserver, \n",
    "notamment si une agrégation est faite sur une zone géographique.\n",
    "\n",
    "On en déduit et isolons '645600' observations nulle dont on ne conservera\n",
    "que les colonnes de 'Longitude' et de 'Latitude'."
   ]
  },
  {
   "cell_type": "code",
   "execution_count": 11,
   "metadata": {},
   "outputs": [
    {
     "data": {
      "text/plain": [
       "645600"
      ]
     },
     "execution_count": 11,
     "metadata": {},
     "output_type": "execute_result"
    }
   ],
   "source": [
    "(df_val.sum(axis=1) == 0).sum()"
   ]
  },
  {
   "cell_type": "markdown",
   "metadata": {},
   "source": [
    "### Indexation conditionnée\n",
    "\n",
    "Opération de type 'booléen' sur l'index de 'df_map' non inclus dans l'index de 'df_data' les valeurs nulles sont effacés du dataframe, mais l'index est conservé.\n",
    "Ce qui nous permettra de les visualiser en temps voulu et de ne pas perdre d'information scientifique."
   ]
  },
  {
   "cell_type": "code",
   "execution_count": 12,
   "metadata": {},
   "outputs": [],
   "source": [
    "df_null = df_map[~(df_map.index.isin(df_data.index))]"
   ]
  },
  {
   "cell_type": "markdown",
   "metadata": {},
   "source": [
    "### Fusion avec les données géographiques\n",
    "On est donc en mesure de produire (2) datasets finaux : \n",
    "* `df_data` composé de __42173__ observations,\n",
    "* `df_null` composé de __645600__ observations nulles mais nécessaires dans notre démarche scientifique."
   ]
  },
  {
   "cell_type": "markdown",
   "metadata": {},
   "source": [
    "#### ajout des données de localisation\n"
   ]
  },
  {
   "cell_type": "code",
   "execution_count": 13,
   "metadata": {},
   "outputs": [],
   "source": [
    "df_data = df_data.merge(df_map, left_index=True, right_index=True, how='inner')"
   ]
  },
  {
   "cell_type": "markdown",
   "metadata": {},
   "source": [
    "#### réarrangement des colonnes\n"
   ]
  },
  {
   "cell_type": "code",
   "execution_count": 14,
   "metadata": {},
   "outputs": [
    {
     "data": {
      "text/html": [
       "<div>\n",
       "<style scoped>\n",
       "    .dataframe tbody tr th:only-of-type {\n",
       "        vertical-align: middle;\n",
       "    }\n",
       "\n",
       "    .dataframe tbody tr th {\n",
       "        vertical-align: top;\n",
       "    }\n",
       "\n",
       "    .dataframe thead th {\n",
       "        text-align: right;\n",
       "    }\n",
       "</style>\n",
       "<table border=\"1\" class=\"dataframe\">\n",
       "  <thead>\n",
       "    <tr style=\"text-align: right;\">\n",
       "      <th></th>\n",
       "      <th>Longitude</th>\n",
       "      <th>Latitude</th>\n",
       "      <th>1850</th>\n",
       "      <th>1851</th>\n",
       "      <th>1852</th>\n",
       "      <th>1853</th>\n",
       "      <th>1854</th>\n",
       "      <th>1855</th>\n",
       "      <th>1856</th>\n",
       "      <th>1857</th>\n",
       "      <th>...</th>\n",
       "      <th>2008</th>\n",
       "      <th>2009</th>\n",
       "      <th>2010</th>\n",
       "      <th>2011</th>\n",
       "      <th>2012</th>\n",
       "      <th>2013</th>\n",
       "      <th>2014</th>\n",
       "      <th>2015</th>\n",
       "      <th>2016</th>\n",
       "      <th>2017</th>\n",
       "    </tr>\n",
       "  </thead>\n",
       "  <tbody>\n",
       "    <tr>\n",
       "      <th>1322</th>\n",
       "      <td>-89.8</td>\n",
       "      <td>47.0</td>\n",
       "      <td>0.004109</td>\n",
       "      <td>0.001830</td>\n",
       "      <td>0.001715</td>\n",
       "      <td>0.002112</td>\n",
       "      <td>0.006541</td>\n",
       "      <td>0.001582</td>\n",
       "      <td>0.001642</td>\n",
       "      <td>0.001582</td>\n",
       "      <td>...</td>\n",
       "      <td>0.016051</td>\n",
       "      <td>0.001612</td>\n",
       "      <td>0.021475</td>\n",
       "      <td>0.016134</td>\n",
       "      <td>0.037054</td>\n",
       "      <td>0.013271</td>\n",
       "      <td>0.001582</td>\n",
       "      <td>0.006349</td>\n",
       "      <td>0.035452</td>\n",
       "      <td>0.015644</td>\n",
       "    </tr>\n",
       "    <tr>\n",
       "      <th>1323</th>\n",
       "      <td>-89.8</td>\n",
       "      <td>47.1</td>\n",
       "      <td>0.003996</td>\n",
       "      <td>0.001781</td>\n",
       "      <td>0.001688</td>\n",
       "      <td>0.002061</td>\n",
       "      <td>0.006322</td>\n",
       "      <td>0.001582</td>\n",
       "      <td>0.001630</td>\n",
       "      <td>0.001582</td>\n",
       "      <td>...</td>\n",
       "      <td>0.015533</td>\n",
       "      <td>0.001606</td>\n",
       "      <td>0.021170</td>\n",
       "      <td>0.015597</td>\n",
       "      <td>0.035595</td>\n",
       "      <td>0.013242</td>\n",
       "      <td>0.001582</td>\n",
       "      <td>0.006118</td>\n",
       "      <td>0.034574</td>\n",
       "      <td>0.015219</td>\n",
       "    </tr>\n",
       "    <tr>\n",
       "      <th>1324</th>\n",
       "      <td>-89.8</td>\n",
       "      <td>47.2</td>\n",
       "      <td>0.003314</td>\n",
       "      <td>0.001582</td>\n",
       "      <td>0.001582</td>\n",
       "      <td>0.001802</td>\n",
       "      <td>0.005263</td>\n",
       "      <td>0.001582</td>\n",
       "      <td>0.001582</td>\n",
       "      <td>0.001582</td>\n",
       "      <td>...</td>\n",
       "      <td>0.014741</td>\n",
       "      <td>0.001582</td>\n",
       "      <td>0.020968</td>\n",
       "      <td>0.014789</td>\n",
       "      <td>0.034600</td>\n",
       "      <td>0.012780</td>\n",
       "      <td>0.001582</td>\n",
       "      <td>0.005057</td>\n",
       "      <td>0.033305</td>\n",
       "      <td>0.014508</td>\n",
       "    </tr>\n",
       "    <tr>\n",
       "      <th>1325</th>\n",
       "      <td>-89.8</td>\n",
       "      <td>47.3</td>\n",
       "      <td>0.002404</td>\n",
       "      <td>0.001582</td>\n",
       "      <td>0.001582</td>\n",
       "      <td>0.001645</td>\n",
       "      <td>0.004232</td>\n",
       "      <td>0.001582</td>\n",
       "      <td>0.001582</td>\n",
       "      <td>0.001582</td>\n",
       "      <td>...</td>\n",
       "      <td>0.013951</td>\n",
       "      <td>0.001582</td>\n",
       "      <td>0.019397</td>\n",
       "      <td>0.013993</td>\n",
       "      <td>0.033115</td>\n",
       "      <td>0.011551</td>\n",
       "      <td>0.001582</td>\n",
       "      <td>0.004050</td>\n",
       "      <td>0.031795</td>\n",
       "      <td>0.013742</td>\n",
       "    </tr>\n",
       "    <tr>\n",
       "      <th>1329</th>\n",
       "      <td>-89.8</td>\n",
       "      <td>47.7</td>\n",
       "      <td>0.001968</td>\n",
       "      <td>0.001582</td>\n",
       "      <td>0.001582</td>\n",
       "      <td>0.001591</td>\n",
       "      <td>0.003340</td>\n",
       "      <td>0.001582</td>\n",
       "      <td>0.001582</td>\n",
       "      <td>0.001582</td>\n",
       "      <td>...</td>\n",
       "      <td>0.013447</td>\n",
       "      <td>0.001582</td>\n",
       "      <td>0.018869</td>\n",
       "      <td>0.013501</td>\n",
       "      <td>0.031989</td>\n",
       "      <td>0.010585</td>\n",
       "      <td>0.001582</td>\n",
       "      <td>0.003197</td>\n",
       "      <td>0.030908</td>\n",
       "      <td>0.013185</td>\n",
       "    </tr>\n",
       "  </tbody>\n",
       "</table>\n",
       "<p>5 rows × 170 columns</p>\n",
       "</div>"
      ],
      "text/plain": [
       "      Longitude  Latitude      1850      1851      1852      1853      1854  \\\n",
       "1322      -89.8      47.0  0.004109  0.001830  0.001715  0.002112  0.006541   \n",
       "1323      -89.8      47.1  0.003996  0.001781  0.001688  0.002061  0.006322   \n",
       "1324      -89.8      47.2  0.003314  0.001582  0.001582  0.001802  0.005263   \n",
       "1325      -89.8      47.3  0.002404  0.001582  0.001582  0.001645  0.004232   \n",
       "1329      -89.8      47.7  0.001968  0.001582  0.001582  0.001591  0.003340   \n",
       "\n",
       "          1855      1856      1857  ...      2008      2009      2010  \\\n",
       "1322  0.001582  0.001642  0.001582  ...  0.016051  0.001612  0.021475   \n",
       "1323  0.001582  0.001630  0.001582  ...  0.015533  0.001606  0.021170   \n",
       "1324  0.001582  0.001582  0.001582  ...  0.014741  0.001582  0.020968   \n",
       "1325  0.001582  0.001582  0.001582  ...  0.013951  0.001582  0.019397   \n",
       "1329  0.001582  0.001582  0.001582  ...  0.013447  0.001582  0.018869   \n",
       "\n",
       "          2011      2012      2013      2014      2015      2016      2017  \n",
       "1322  0.016134  0.037054  0.013271  0.001582  0.006349  0.035452  0.015644  \n",
       "1323  0.015597  0.035595  0.013242  0.001582  0.006118  0.034574  0.015219  \n",
       "1324  0.014789  0.034600  0.012780  0.001582  0.005057  0.033305  0.014508  \n",
       "1325  0.013993  0.033115  0.011551  0.001582  0.004050  0.031795  0.013742  \n",
       "1329  0.013501  0.031989  0.010585  0.001582  0.003197  0.030908  0.013185  \n",
       "\n",
       "[5 rows x 170 columns]"
      ]
     },
     "execution_count": 14,
     "metadata": {},
     "output_type": "execute_result"
    }
   ],
   "source": [
    "cols = list(df_data.columns)\n",
    "cols = cols[-2:] + cols[:-2]\n",
    "df_data = df_data[cols]\n",
    "\n",
    "df_data.head()"
   ]
  },
  {
   "cell_type": "code",
   "execution_count": 15,
   "metadata": {},
   "outputs": [
    {
     "data": {
      "text/html": [
       "<div>\n",
       "<style scoped>\n",
       "    .dataframe tbody tr th:only-of-type {\n",
       "        vertical-align: middle;\n",
       "    }\n",
       "\n",
       "    .dataframe tbody tr th {\n",
       "        vertical-align: top;\n",
       "    }\n",
       "\n",
       "    .dataframe thead th {\n",
       "        text-align: right;\n",
       "    }\n",
       "</style>\n",
       "<table border=\"1\" class=\"dataframe\">\n",
       "  <thead>\n",
       "    <tr style=\"text-align: right;\">\n",
       "      <th></th>\n",
       "      <th>Longitude</th>\n",
       "      <th>Latitude</th>\n",
       "    </tr>\n",
       "  </thead>\n",
       "  <tbody>\n",
       "    <tr>\n",
       "      <th>0</th>\n",
       "      <td>-90.0</td>\n",
       "      <td>25.0</td>\n",
       "    </tr>\n",
       "    <tr>\n",
       "      <th>1</th>\n",
       "      <td>-90.0</td>\n",
       "      <td>25.1</td>\n",
       "    </tr>\n",
       "    <tr>\n",
       "      <th>2</th>\n",
       "      <td>-90.0</td>\n",
       "      <td>25.2</td>\n",
       "    </tr>\n",
       "    <tr>\n",
       "      <th>3</th>\n",
       "      <td>-90.0</td>\n",
       "      <td>25.3</td>\n",
       "    </tr>\n",
       "    <tr>\n",
       "      <th>4</th>\n",
       "      <td>-90.0</td>\n",
       "      <td>25.4</td>\n",
       "    </tr>\n",
       "  </tbody>\n",
       "</table>\n",
       "</div>"
      ],
      "text/plain": [
       "   Longitude  Latitude\n",
       "0      -90.0      25.0\n",
       "1      -90.0      25.1\n",
       "2      -90.0      25.2\n",
       "3      -90.0      25.3\n",
       "4      -90.0      25.4"
      ]
     },
     "execution_count": 15,
     "metadata": {},
     "output_type": "execute_result"
    }
   ],
   "source": [
    "df_null.head()"
   ]
  },
  {
   "cell_type": "markdown",
   "metadata": {},
   "source": [
    "### Création des exports CSV finaux\n",
    "On exporte enfin notre travail sous la forme de (2) fichiers __csv__ et __compressés sans perte d'information__ :\n",
    "* `data_sprat_data.csv` (69.5 Mo)\n",
    "* `data_sprat_null.csv` (6.5 Mo)\n",
    "\n",
    "soit un total de __76.0Mo__, soit une compression significative de __72%__"
   ]
  },
  {
   "cell_type": "code",
   "execution_count": 16,
   "metadata": {},
   "outputs": [],
   "source": [
    "df_data.to_csv('export_data_sprat_data.csv', index=True)\n",
    "df_null.to_csv('export_data_sprat_null.csv', index=True)"
   ]
  },
  {
   "cell_type": "markdown",
   "metadata": {},
   "source": [
    "##### finalisation du Timer"
   ]
  },
  {
   "cell_type": "code",
   "execution_count": 17,
   "metadata": {},
   "outputs": [
    {
     "name": "stdout",
     "output_type": "stream",
     "text": [
      "Calculs effectués en 162.55 secondes\n"
     ]
    }
   ],
   "source": [
    "end_sec = time.time()\n",
    "print('Calculs effectués en %s secondes' %round(end_sec - start_sec,2))"
   ]
  },
  {
   "cell_type": "code",
   "execution_count": null,
   "metadata": {},
   "outputs": [],
   "source": []
  }
 ],
 "metadata": {
  "hide_input": false,
  "kernelspec": {
   "display_name": "Python 3",
   "language": "python",
   "name": "python3"
  },
  "language_info": {
   "codemirror_mode": {
    "name": "ipython",
    "version": 3
   },
   "file_extension": ".py",
   "mimetype": "text/x-python",
   "name": "python",
   "nbconvert_exporter": "python",
   "pygments_lexer": "ipython3",
   "version": "3.8.5"
  }
 },
 "nbformat": 4,
 "nbformat_minor": 4
}
